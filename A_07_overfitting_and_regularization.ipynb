{
 "cells": [
  {
   "cell_type": "markdown",
   "metadata": {},
   "source": [
    "# <font color=blue>Assignments for \"Overfitting and Regularization\"</font>"
   ]
  },
  {
   "cell_type": "markdown",
   "metadata": {},
   "source": [
    "In this assignment, you'll continue working with the house prices data. To complete this assignment, submit a link to a Jupyter notebook containing your solutions to the following tasks:\n",
    "\n",
    "- Load the **houseprices** data from Kaggle.\n",
    "- Reimplement your model from the previous lesson.\n",
    "- Try OLS, Lasso, Ridge and ElasticNet regressions using the same model specification. This time, you need to do **k-fold cross-validation** to choose the best hyperparameter values for your models. Which model is the best? Why?"
   ]
  },
  {
   "cell_type": "code",
   "execution_count": 1,
   "metadata": {},
   "outputs": [],
   "source": [
    "import numpy as np\n",
    "import pandas as pd\n",
    "from sklearn.linear_model import LinearRegression\n",
    "from sklearn.model_selection import train_test_split\n",
    "from sklearn.metrics import mean_absolute_error\n",
    "import statsmodels.api as sm\n",
    "from statsmodels.tools.eval_measures import mse, rmse\n",
    "import matplotlib.pyplot as plt"
   ]
  },
  {
   "cell_type": "code",
   "execution_count": 2,
   "metadata": {},
   "outputs": [
    {
     "data": {
      "text/html": [
       "<div>\n",
       "<style scoped>\n",
       "    .dataframe tbody tr th:only-of-type {\n",
       "        vertical-align: middle;\n",
       "    }\n",
       "\n",
       "    .dataframe tbody tr th {\n",
       "        vertical-align: top;\n",
       "    }\n",
       "\n",
       "    .dataframe thead th {\n",
       "        text-align: right;\n",
       "    }\n",
       "</style>\n",
       "<table border=\"1\" class=\"dataframe\">\n",
       "  <thead>\n",
       "    <tr style=\"text-align: right;\">\n",
       "      <th></th>\n",
       "      <th>Id</th>\n",
       "      <th>MSSubClass</th>\n",
       "      <th>MSZoning</th>\n",
       "      <th>LotFrontage</th>\n",
       "      <th>LotArea</th>\n",
       "      <th>Street</th>\n",
       "      <th>Alley</th>\n",
       "      <th>LotShape</th>\n",
       "      <th>LandContour</th>\n",
       "      <th>Utilities</th>\n",
       "      <th>...</th>\n",
       "      <th>SaleType_ConLw</th>\n",
       "      <th>SaleType_New</th>\n",
       "      <th>SaleType_Oth</th>\n",
       "      <th>SaleType_WD</th>\n",
       "      <th>SaleCondition_Abnorml</th>\n",
       "      <th>SaleCondition_AdjLand</th>\n",
       "      <th>SaleCondition_Alloca</th>\n",
       "      <th>SaleCondition_Family</th>\n",
       "      <th>SaleCondition_Normal</th>\n",
       "      <th>SaleCondition_Partial</th>\n",
       "    </tr>\n",
       "  </thead>\n",
       "  <tbody>\n",
       "    <tr>\n",
       "      <th>0</th>\n",
       "      <td>1</td>\n",
       "      <td>60</td>\n",
       "      <td>RL</td>\n",
       "      <td>65.0</td>\n",
       "      <td>8450</td>\n",
       "      <td>Pave</td>\n",
       "      <td>No Alley Access</td>\n",
       "      <td>Reg</td>\n",
       "      <td>Lvl</td>\n",
       "      <td>AllPub</td>\n",
       "      <td>...</td>\n",
       "      <td>0</td>\n",
       "      <td>0</td>\n",
       "      <td>0</td>\n",
       "      <td>1</td>\n",
       "      <td>0</td>\n",
       "      <td>0</td>\n",
       "      <td>0</td>\n",
       "      <td>0</td>\n",
       "      <td>1</td>\n",
       "      <td>0</td>\n",
       "    </tr>\n",
       "    <tr>\n",
       "      <th>1</th>\n",
       "      <td>2</td>\n",
       "      <td>20</td>\n",
       "      <td>RL</td>\n",
       "      <td>80.0</td>\n",
       "      <td>9600</td>\n",
       "      <td>Pave</td>\n",
       "      <td>No Alley Access</td>\n",
       "      <td>Reg</td>\n",
       "      <td>Lvl</td>\n",
       "      <td>AllPub</td>\n",
       "      <td>...</td>\n",
       "      <td>0</td>\n",
       "      <td>0</td>\n",
       "      <td>0</td>\n",
       "      <td>1</td>\n",
       "      <td>0</td>\n",
       "      <td>0</td>\n",
       "      <td>0</td>\n",
       "      <td>0</td>\n",
       "      <td>1</td>\n",
       "      <td>0</td>\n",
       "    </tr>\n",
       "    <tr>\n",
       "      <th>2</th>\n",
       "      <td>3</td>\n",
       "      <td>60</td>\n",
       "      <td>RL</td>\n",
       "      <td>68.0</td>\n",
       "      <td>11250</td>\n",
       "      <td>Pave</td>\n",
       "      <td>No Alley Access</td>\n",
       "      <td>IR1</td>\n",
       "      <td>Lvl</td>\n",
       "      <td>AllPub</td>\n",
       "      <td>...</td>\n",
       "      <td>0</td>\n",
       "      <td>0</td>\n",
       "      <td>0</td>\n",
       "      <td>1</td>\n",
       "      <td>0</td>\n",
       "      <td>0</td>\n",
       "      <td>0</td>\n",
       "      <td>0</td>\n",
       "      <td>1</td>\n",
       "      <td>0</td>\n",
       "    </tr>\n",
       "    <tr>\n",
       "      <th>3</th>\n",
       "      <td>4</td>\n",
       "      <td>70</td>\n",
       "      <td>RL</td>\n",
       "      <td>60.0</td>\n",
       "      <td>9550</td>\n",
       "      <td>Pave</td>\n",
       "      <td>No Alley Access</td>\n",
       "      <td>IR1</td>\n",
       "      <td>Lvl</td>\n",
       "      <td>AllPub</td>\n",
       "      <td>...</td>\n",
       "      <td>0</td>\n",
       "      <td>0</td>\n",
       "      <td>0</td>\n",
       "      <td>1</td>\n",
       "      <td>1</td>\n",
       "      <td>0</td>\n",
       "      <td>0</td>\n",
       "      <td>0</td>\n",
       "      <td>0</td>\n",
       "      <td>0</td>\n",
       "    </tr>\n",
       "    <tr>\n",
       "      <th>4</th>\n",
       "      <td>5</td>\n",
       "      <td>60</td>\n",
       "      <td>RL</td>\n",
       "      <td>84.0</td>\n",
       "      <td>14260</td>\n",
       "      <td>Pave</td>\n",
       "      <td>No Alley Access</td>\n",
       "      <td>IR1</td>\n",
       "      <td>Lvl</td>\n",
       "      <td>AllPub</td>\n",
       "      <td>...</td>\n",
       "      <td>0</td>\n",
       "      <td>0</td>\n",
       "      <td>0</td>\n",
       "      <td>1</td>\n",
       "      <td>0</td>\n",
       "      <td>0</td>\n",
       "      <td>0</td>\n",
       "      <td>0</td>\n",
       "      <td>1</td>\n",
       "      <td>0</td>\n",
       "    </tr>\n",
       "  </tbody>\n",
       "</table>\n",
       "<p>5 rows × 328 columns</p>\n",
       "</div>"
      ],
      "text/plain": [
       "   Id  MSSubClass MSZoning  LotFrontage  LotArea Street            Alley  \\\n",
       "0   1          60       RL         65.0     8450   Pave  No Alley Access   \n",
       "1   2          20       RL         80.0     9600   Pave  No Alley Access   \n",
       "2   3          60       RL         68.0    11250   Pave  No Alley Access   \n",
       "3   4          70       RL         60.0     9550   Pave  No Alley Access   \n",
       "4   5          60       RL         84.0    14260   Pave  No Alley Access   \n",
       "\n",
       "  LotShape LandContour Utilities  ... SaleType_ConLw SaleType_New  \\\n",
       "0      Reg         Lvl    AllPub  ...              0            0   \n",
       "1      Reg         Lvl    AllPub  ...              0            0   \n",
       "2      IR1         Lvl    AllPub  ...              0            0   \n",
       "3      IR1         Lvl    AllPub  ...              0            0   \n",
       "4      IR1         Lvl    AllPub  ...              0            0   \n",
       "\n",
       "  SaleType_Oth SaleType_WD SaleCondition_Abnorml SaleCondition_AdjLand  \\\n",
       "0            0           1                     0                     0   \n",
       "1            0           1                     0                     0   \n",
       "2            0           1                     0                     0   \n",
       "3            0           1                     1                     0   \n",
       "4            0           1                     0                     0   \n",
       "\n",
       "  SaleCondition_Alloca  SaleCondition_Family  SaleCondition_Normal  \\\n",
       "0                    0                     0                     1   \n",
       "1                    0                     0                     1   \n",
       "2                    0                     0                     1   \n",
       "3                    0                     0                     0   \n",
       "4                    0                     0                     1   \n",
       "\n",
       "   SaleCondition_Partial  \n",
       "0                      0  \n",
       "1                      0  \n",
       "2                      0  \n",
       "3                      0  \n",
       "4                      0  \n",
       "\n",
       "[5 rows x 328 columns]"
      ]
     },
     "execution_count": 2,
     "metadata": {},
     "output_type": "execute_result"
    }
   ],
   "source": [
    "house_df = pd.read_csv('housePrices.csv')\n",
    "house_df.Alley = house_df.Alley.fillna(\"No Alley Access\")\n",
    "house_df.FireplaceQu = house_df.FireplaceQu.fillna(\"No Fireplace\")\n",
    "house_df.PoolQC = house_df.PoolQC.fillna(\"No pool\")\n",
    "house_df.Fence = house_df.Fence.fillna(\"No fence\")\n",
    "house_df.MiscFeature = house_df.MiscFeature.fillna(\"None\")\n",
    "\n",
    "#Filling missing values per columns with median values\n",
    "import pandas.api.types as ptypes\n",
    "def fix_missing(df, col, name):\n",
    "    if ptypes.is_numeric_dtype(col):\n",
    "        df[name] = col.fillna(col.median())\n",
    "        \n",
    "for n, c in house_df.items():\n",
    "        fix_missing(house_df, c, n)\n",
    "        \n",
    "house_df = house_df.dropna()\n",
    "\n",
    "#Getting categoric columns from dataframe and removing customerid which is unique for each customer.\n",
    "categoricColumns = house_df.select_dtypes('object').columns.tolist()\n",
    "categoricColumns.pop(0)\n",
    "len(categoricColumns)\n",
    "\n",
    "#Creating a new dataframe to concat new numerical columns on. \n",
    "numeric_df = pd.DataFrame()\n",
    "#By using a loop concating all columns in a df\n",
    "for var in categoricColumns:\n",
    "    numeric_df = pd.concat([numeric_df, pd.get_dummies(house_df[var], prefix=var)], axis=1)\n",
    "numeric_df\n",
    "\n",
    "#Adding numerical columns and original dataframe to new df.\n",
    "new_house_df = pd.concat([house_df, numeric_df], axis=1)\n",
    "new_house_df.head()"
   ]
  },
  {
   "cell_type": "code",
   "execution_count": 3,
   "metadata": {},
   "outputs": [],
   "source": [
    "#Adding columns that has more than 0.33 or more correlation between target variable.\n",
    "chosenColumns2 = ['OverallQual', 'YearBuilt', 'YearRemodAdd', 'BsmtFinSF1','1stFlrSF', 'GrLivArea', 'TotRmsAbvGrd', 'Fireplaces', 'GarageCars','Neighborhood_NoRidge', 'Neighborhood_NridgHt', 'ExterQual_Ex', 'ExterQual_Gd', 'BsmtQual_Ex', 'KitchenQual_Ex']\n",
    "\n",
    "y = new_house_df.SalePrice\n",
    "X = new_house_df[chosenColumns2]\n",
    "\n",
    "X_train, X_test, y_train, y_test = train_test_split(X, y, test_size = 0.2, random_state = 42)"
   ]
  },
  {
   "cell_type": "markdown",
   "metadata": {},
   "source": [
    "### 1) Using OLS "
   ]
  },
  {
   "cell_type": "code",
   "execution_count": 4,
   "metadata": {},
   "outputs": [
    {
     "data": {
      "text/html": [
       "<table class=\"simpletable\">\n",
       "<caption>OLS Regression Results</caption>\n",
       "<tr>\n",
       "  <th>Dep. Variable:</th>        <td>SalePrice</td>    <th>  R-squared:         </th> <td>   0.818</td> \n",
       "</tr>\n",
       "<tr>\n",
       "  <th>Model:</th>                   <td>OLS</td>       <th>  Adj. R-squared:    </th> <td>   0.815</td> \n",
       "</tr>\n",
       "<tr>\n",
       "  <th>Method:</th>             <td>Least Squares</td>  <th>  F-statistic:       </th> <td>   315.5</td> \n",
       "</tr>\n",
       "<tr>\n",
       "  <th>Date:</th>             <td>Sat, 19 Sep 2020</td> <th>  Prob (F-statistic):</th>  <td>  0.00</td>  \n",
       "</tr>\n",
       "<tr>\n",
       "  <th>Time:</th>                 <td>14:30:04</td>     <th>  Log-Likelihood:    </th> <td> -12711.</td> \n",
       "</tr>\n",
       "<tr>\n",
       "  <th>No. Observations:</th>      <td>  1070</td>      <th>  AIC:               </th> <td>2.545e+04</td>\n",
       "</tr>\n",
       "<tr>\n",
       "  <th>Df Residuals:</th>          <td>  1054</td>      <th>  BIC:               </th> <td>2.553e+04</td>\n",
       "</tr>\n",
       "<tr>\n",
       "  <th>Df Model:</th>              <td>    15</td>      <th>                     </th>     <td> </td>    \n",
       "</tr>\n",
       "<tr>\n",
       "  <th>Covariance Type:</th>      <td>nonrobust</td>    <th>                     </th>     <td> </td>    \n",
       "</tr>\n",
       "</table>\n",
       "<table class=\"simpletable\">\n",
       "<tr>\n",
       "            <td></td>              <th>coef</th>     <th>std err</th>      <th>t</th>      <th>P>|t|</th>  <th>[0.025</th>    <th>0.975]</th>  \n",
       "</tr>\n",
       "<tr>\n",
       "  <th>const</th>                <td> -9.34e+05</td> <td> 1.49e+05</td> <td>   -6.269</td> <td> 0.000</td> <td>-1.23e+06</td> <td>-6.42e+05</td>\n",
       "</tr>\n",
       "<tr>\n",
       "  <th>OverallQual</th>          <td> 1.284e+04</td> <td> 1484.911</td> <td>    8.644</td> <td> 0.000</td> <td> 9921.662</td> <td> 1.57e+04</td>\n",
       "</tr>\n",
       "<tr>\n",
       "  <th>YearBuilt</th>            <td>  163.8105</td> <td>   54.384</td> <td>    3.012</td> <td> 0.003</td> <td>   57.098</td> <td>  270.523</td>\n",
       "</tr>\n",
       "<tr>\n",
       "  <th>YearRemodAdd</th>         <td>  294.8959</td> <td>   74.353</td> <td>    3.966</td> <td> 0.000</td> <td>  149.000</td> <td>  440.792</td>\n",
       "</tr>\n",
       "<tr>\n",
       "  <th>BsmtFinSF1</th>           <td>   10.9986</td> <td>    2.767</td> <td>    3.976</td> <td> 0.000</td> <td>    5.570</td> <td>   16.427</td>\n",
       "</tr>\n",
       "<tr>\n",
       "  <th>1stFlrSF</th>             <td>   14.7080</td> <td>    3.844</td> <td>    3.826</td> <td> 0.000</td> <td>    7.164</td> <td>   22.252</td>\n",
       "</tr>\n",
       "<tr>\n",
       "  <th>GrLivArea</th>            <td>   36.8260</td> <td>    4.584</td> <td>    8.033</td> <td> 0.000</td> <td>   27.830</td> <td>   45.822</td>\n",
       "</tr>\n",
       "<tr>\n",
       "  <th>TotRmsAbvGrd</th>         <td> 1719.8618</td> <td> 1267.326</td> <td>    1.357</td> <td> 0.175</td> <td> -766.908</td> <td> 4206.631</td>\n",
       "</tr>\n",
       "<tr>\n",
       "  <th>Fireplaces</th>           <td> 9886.0191</td> <td> 1975.905</td> <td>    5.003</td> <td> 0.000</td> <td> 6008.864</td> <td> 1.38e+04</td>\n",
       "</tr>\n",
       "<tr>\n",
       "  <th>GarageCars</th>           <td> 1.314e+04</td> <td> 2337.862</td> <td>    5.620</td> <td> 0.000</td> <td> 8551.332</td> <td> 1.77e+04</td>\n",
       "</tr>\n",
       "<tr>\n",
       "  <th>Neighborhood_NoRidge</th> <td> 5.763e+04</td> <td> 7039.402</td> <td>    8.187</td> <td> 0.000</td> <td> 4.38e+04</td> <td> 7.14e+04</td>\n",
       "</tr>\n",
       "<tr>\n",
       "  <th>Neighborhood_NridgHt</th> <td> 1.283e+04</td> <td> 5401.686</td> <td>    2.376</td> <td> 0.018</td> <td> 2234.704</td> <td> 2.34e+04</td>\n",
       "</tr>\n",
       "<tr>\n",
       "  <th>ExterQual_Ex</th>         <td> 2.206e+04</td> <td> 7745.419</td> <td>    2.848</td> <td> 0.004</td> <td> 6860.884</td> <td> 3.73e+04</td>\n",
       "</tr>\n",
       "<tr>\n",
       "  <th>ExterQual_Gd</th>         <td> 7934.6370</td> <td> 3383.650</td> <td>    2.345</td> <td> 0.019</td> <td> 1295.180</td> <td> 1.46e+04</td>\n",
       "</tr>\n",
       "<tr>\n",
       "  <th>BsmtQual_Ex</th>          <td> 3.769e+04</td> <td> 5155.024</td> <td>    7.312</td> <td> 0.000</td> <td> 2.76e+04</td> <td> 4.78e+04</td>\n",
       "</tr>\n",
       "<tr>\n",
       "  <th>KitchenQual_Ex</th>       <td> 2.798e+04</td> <td> 5519.423</td> <td>    5.069</td> <td> 0.000</td> <td> 1.71e+04</td> <td> 3.88e+04</td>\n",
       "</tr>\n",
       "</table>\n",
       "<table class=\"simpletable\">\n",
       "<tr>\n",
       "  <th>Omnibus:</th>       <td>629.883</td> <th>  Durbin-Watson:     </th> <td>   2.032</td> \n",
       "</tr>\n",
       "<tr>\n",
       "  <th>Prob(Omnibus):</th> <td> 0.000</td>  <th>  Jarque-Bera (JB):  </th> <td>70760.432</td>\n",
       "</tr>\n",
       "<tr>\n",
       "  <th>Skew:</th>          <td>-1.750</td>  <th>  Prob(JB):          </th> <td>    0.00</td> \n",
       "</tr>\n",
       "<tr>\n",
       "  <th>Kurtosis:</th>      <td>42.685</td>  <th>  Cond. No.          </th> <td>4.80e+05</td> \n",
       "</tr>\n",
       "</table><br/><br/>Notes:<br/>[1] Standard Errors assume that the covariance matrix of the errors is correctly specified.<br/>[2] The condition number is large, 4.8e+05. This might indicate that there are<br/>strong multicollinearity or other numerical problems."
      ],
      "text/plain": [
       "<class 'statsmodels.iolib.summary.Summary'>\n",
       "\"\"\"\n",
       "                            OLS Regression Results                            \n",
       "==============================================================================\n",
       "Dep. Variable:              SalePrice   R-squared:                       0.818\n",
       "Model:                            OLS   Adj. R-squared:                  0.815\n",
       "Method:                 Least Squares   F-statistic:                     315.5\n",
       "Date:                Sat, 19 Sep 2020   Prob (F-statistic):               0.00\n",
       "Time:                        14:30:04   Log-Likelihood:                -12711.\n",
       "No. Observations:                1070   AIC:                         2.545e+04\n",
       "Df Residuals:                    1054   BIC:                         2.553e+04\n",
       "Df Model:                          15                                         \n",
       "Covariance Type:            nonrobust                                         \n",
       "========================================================================================\n",
       "                           coef    std err          t      P>|t|      [0.025      0.975]\n",
       "----------------------------------------------------------------------------------------\n",
       "const                 -9.34e+05   1.49e+05     -6.269      0.000   -1.23e+06   -6.42e+05\n",
       "OverallQual           1.284e+04   1484.911      8.644      0.000    9921.662    1.57e+04\n",
       "YearBuilt              163.8105     54.384      3.012      0.003      57.098     270.523\n",
       "YearRemodAdd           294.8959     74.353      3.966      0.000     149.000     440.792\n",
       "BsmtFinSF1              10.9986      2.767      3.976      0.000       5.570      16.427\n",
       "1stFlrSF                14.7080      3.844      3.826      0.000       7.164      22.252\n",
       "GrLivArea               36.8260      4.584      8.033      0.000      27.830      45.822\n",
       "TotRmsAbvGrd          1719.8618   1267.326      1.357      0.175    -766.908    4206.631\n",
       "Fireplaces            9886.0191   1975.905      5.003      0.000    6008.864    1.38e+04\n",
       "GarageCars            1.314e+04   2337.862      5.620      0.000    8551.332    1.77e+04\n",
       "Neighborhood_NoRidge  5.763e+04   7039.402      8.187      0.000    4.38e+04    7.14e+04\n",
       "Neighborhood_NridgHt  1.283e+04   5401.686      2.376      0.018    2234.704    2.34e+04\n",
       "ExterQual_Ex          2.206e+04   7745.419      2.848      0.004    6860.884    3.73e+04\n",
       "ExterQual_Gd          7934.6370   3383.650      2.345      0.019    1295.180    1.46e+04\n",
       "BsmtQual_Ex           3.769e+04   5155.024      7.312      0.000    2.76e+04    4.78e+04\n",
       "KitchenQual_Ex        2.798e+04   5519.423      5.069      0.000    1.71e+04    3.88e+04\n",
       "==============================================================================\n",
       "Omnibus:                      629.883   Durbin-Watson:                   2.032\n",
       "Prob(Omnibus):                  0.000   Jarque-Bera (JB):            70760.432\n",
       "Skew:                          -1.750   Prob(JB):                         0.00\n",
       "Kurtosis:                      42.685   Cond. No.                     4.80e+05\n",
       "==============================================================================\n",
       "\n",
       "Notes:\n",
       "[1] Standard Errors assume that the covariance matrix of the errors is correctly specified.\n",
       "[2] The condition number is large, 4.8e+05. This might indicate that there are\n",
       "strong multicollinearity or other numerical problems.\n",
       "\"\"\""
      ]
     },
     "execution_count": 4,
     "metadata": {},
     "output_type": "execute_result"
    }
   ],
   "source": [
    "X_train = sm.add_constant(X_train)\n",
    "\n",
    "results = sm.OLS(y_train, X_train).fit()\n",
    "\n",
    "results.summary()"
   ]
  },
  {
   "cell_type": "code",
   "execution_count": 5,
   "metadata": {},
   "outputs": [],
   "source": [
    "#Adding constant column to X_test\n",
    "X_test = sm.add_constant(X_test)\n",
    "#Making predictions with test dataset\n",
    "y_preds = results.predict(X_test)"
   ]
  },
  {
   "cell_type": "code",
   "execution_count": 6,
   "metadata": {},
   "outputs": [
    {
     "data": {
      "image/png": "[encoded data removed]",
      "text/plain": [
       "<Figure size 432x288 with 1 Axes>"
      ]
     },
     "metadata": {
      "needs_background": "light"
     },
     "output_type": "display_data"
    },
    {
     "name": "stdout",
     "output_type": "stream",
     "text": [
      "Mean absolute error of the prediction is: 21318.57448321678\n",
      "Mean squared error of the prediction is: 875382850.9855301\n",
      "Root mean squared error of the prediction is: 29586.869570563395\n",
      "Mean absolute percentage error of the prediction is: 13.263757014716626\n"
     ]
    }
   ],
   "source": [
    "plt.scatter(y_test, y_preds)\n",
    "plt.plot(y_test, y_test, color=\"red\")\n",
    "plt.xlabel(\"true values\")\n",
    "plt.ylabel(\"predicted values\")\n",
    "plt.title(\"Charges: true and predicted values\")\n",
    "plt.show()\n",
    "\n",
    "print(\"Mean absolute error of the prediction is: {}\".format(mean_absolute_error(y_test, y_preds)))\n",
    "print(\"Mean squared error of the prediction is: {}\".format(mse(y_test, y_preds)))\n",
    "print(\"Root mean squared error of the prediction is: {}\".format(rmse(y_test, y_preds)))\n",
    "print(\"Mean absolute percentage error of the prediction is: {}\".format(np.mean(np.abs((y_test - y_preds) / y_test)) * 100))"
   ]
  },
  {
   "cell_type": "markdown",
   "metadata": {},
   "source": [
    "### 2) Using Ridge"
   ]
  },
  {
   "cell_type": "code",
   "execution_count": 7,
   "metadata": {},
   "outputs": [],
   "source": [
    "from sklearn.linear_model import Ridge"
   ]
  },
  {
   "cell_type": "code",
   "execution_count": 27,
   "metadata": {},
   "outputs": [],
   "source": [
    "#Adding columns that has more than 0.33 or more correlation between target variable.\n",
    "chosenColumns2 = ['OverallQual', 'YearBuilt', 'YearRemodAdd', 'BsmtFinSF1','1stFlrSF', 'GrLivArea', 'TotRmsAbvGrd', 'Fireplaces', 'GarageCars','Neighborhood_NoRidge', 'Neighborhood_NridgHt', 'ExterQual_Ex', 'ExterQual_Gd', 'BsmtQual_Ex', 'KitchenQual_Ex']\n",
    "\n",
    "y = new_house_df.SalePrice\n",
    "X = new_house_df[chosenColumns2]\n",
    "\n",
    "X_train, X_test, y_train, y_test = train_test_split(X, y, test_size = 0.2, random_state = 42)"
   ]
  },
  {
   "cell_type": "code",
   "execution_count": 79,
   "metadata": {},
   "outputs": [
    {
     "data": {
      "text/plain": [
       "Ridge(alpha=1.1220184543019633)"
      ]
     },
     "execution_count": 79,
     "metadata": {},
     "output_type": "execute_result"
    }
   ],
   "source": [
    "# Fitting a ridge regression model\n",
    "ridgeregr = Ridge(alpha=10**0.05)\n",
    "ridgeregr.fit(X_train, y_train)"
   ]
  },
  {
   "cell_type": "code",
   "execution_count": 80,
   "metadata": {},
   "outputs": [],
   "source": [
    "# We are making predictions\n",
    "y_preds_train = ridgeregr.predict(X_train)\n",
    "y_preds_test = ridgeregr.predict(X_test)"
   ]
  },
  {
   "cell_type": "code",
   "execution_count": 81,
   "metadata": {},
   "outputs": [
    {
     "name": "stdout",
     "output_type": "stream",
     "text": [
      "R-squared of the model in training set is: 0.8178109312696661\n",
      "-----Test set statistics-----\n",
      "R-squared of the model in test set is: -0.023518353923615898\n",
      "Mean absolute error of the prediction is: 21280.875591617412\n",
      "Mean squared error of the prediction is: 869344556.0766512\n",
      "Root mean squared error of the prediction is: 29484.64949896219\n",
      "Mean absolute percentage error of the prediction is: 13.255305822601432\n"
     ]
    }
   ],
   "source": [
    "print(\"R-squared of the model in training set is: {}\".format(ridgeregr.score(X_train, y_train)))\n",
    "print(\"-----Test set statistics-----\")\n",
    "print(\"R-squared of the model in test set is: {}\".format(ridgereg.score(X_test, y_test)))\n",
    "print(\"Mean absolute error of the prediction is: {}\".format(mean_absolute_error(y_test, y_preds_test)))\n",
    "print(\"Mean squared error of the prediction is: {}\".format(mse(y_test, y_preds_test)))\n",
    "print(\"Root mean squared error of the prediction is: {}\".format(rmse(y_test, y_preds_test)))\n",
    "print(\"Mean absolute percentage error of the prediction is: {}\".format(np.mean(np.abs((y_test - y_preds_test) / y_test)) * 100))"
   ]
  },
  {
   "cell_type": "markdown",
   "metadata": {},
   "source": [
    "### 2) Using Lasso"
   ]
  },
  {
   "cell_type": "code",
   "execution_count": 32,
   "metadata": {},
   "outputs": [],
   "source": [
    "from sklearn.linear_model import Lasso"
   ]
  },
  {
   "cell_type": "code",
   "execution_count": 33,
   "metadata": {},
   "outputs": [],
   "source": [
    "#Adding columns that has more than 0.33 or more correlation between target variable.\n",
    "chosenColumns2 = ['OverallQual', 'YearBuilt', 'YearRemodAdd', 'BsmtFinSF1','1stFlrSF', 'GrLivArea', 'TotRmsAbvGrd', 'Fireplaces', 'GarageCars','Neighborhood_NoRidge', 'Neighborhood_NridgHt', 'ExterQual_Ex', 'ExterQual_Gd', 'BsmtQual_Ex', 'KitchenQual_Ex']\n",
    "\n",
    "y = new_house_df.SalePrice\n",
    "X = new_house_df[chosenColumns2]\n",
    "\n",
    "X_train, X_test, y_train, y_test = train_test_split(X, y, test_size = 0.2, random_state = 42)"
   ]
  },
  {
   "cell_type": "code",
   "execution_count": 86,
   "metadata": {},
   "outputs": [],
   "source": [
    "lassoregr = Lasso(alpha=10**0.05)\n",
    "lassoregr.fit(X_train, y_train)\n",
    "\n",
    "# We are making predictions here\n",
    "y_preds_train = lassoregr.predict(X_train)\n",
    "y_preds_test = lassoregr.predict(X_test)"
   ]
  },
  {
   "cell_type": "code",
   "execution_count": 87,
   "metadata": {},
   "outputs": [
    {
     "name": "stdout",
     "output_type": "stream",
     "text": [
      "R-squared of the model in training set is: 0.8178397703000132\n",
      "-----Test set statistics-----\n",
      "R-squared of the model in test set is: 0.7954547205494243\n",
      "Mean absolute error of the prediction is: 21317.60368003429\n",
      "Mean squared error of the prediction is: 875270934.0297621\n",
      "Root mean squared error of the prediction is: 29584.97818200585\n",
      "Mean absolute percentage error of the prediction is: 13.263459924868656\n"
     ]
    }
   ],
   "source": [
    "print(\"R-squared of the model in training set is: {}\".format(lassoregr.score(X_train, y_train)))\n",
    "print(\"-----Test set statistics-----\")\n",
    "print(\"R-squared of the model in test set is: {}\".format(lassoregr.score(X_test, y_test)))\n",
    "print(\"Mean absolute error of the prediction is: {}\".format(mean_absolute_error(y_test, y_preds_test)))\n",
    "print(\"Mean squared error of the prediction is: {}\".format(mse(y_test, y_preds_test)))\n",
    "print(\"Root mean squared error of the prediction is: {}\".format(rmse(y_test, y_preds_test)))\n",
    "print(\"Mean absolute percentage error of the prediction is: {}\".format(np.mean(np.abs((y_test - y_preds_test) / y_test)) * 100))"
   ]
  },
  {
   "cell_type": "markdown",
   "metadata": {},
   "source": [
    "**Comment:** For both Ridge and Lasso, R-squared values are inceased while alpha getting closer to the 0."
   ]
  },
  {
   "cell_type": "markdown",
   "metadata": {},
   "source": [
    "### 3) Using ElasticNet"
   ]
  },
  {
   "cell_type": "code",
   "execution_count": 89,
   "metadata": {},
   "outputs": [],
   "source": [
    "from sklearn.linear_model import ElasticNet"
   ]
  },
  {
   "cell_type": "code",
   "execution_count": 90,
   "metadata": {},
   "outputs": [],
   "source": [
    "#Adding columns that has more than 0.33 or more correlation between target variable.\n",
    "chosenColumns2 = ['OverallQual', 'YearBuilt', 'YearRemodAdd', 'BsmtFinSF1','1stFlrSF', 'GrLivArea', 'TotRmsAbvGrd', 'Fireplaces', 'GarageCars','Neighborhood_NoRidge', 'Neighborhood_NridgHt', 'ExterQual_Ex', 'ExterQual_Gd', 'BsmtQual_Ex', 'KitchenQual_Ex']\n",
    "\n",
    "y = new_house_df.SalePrice\n",
    "X = new_house_df[chosenColumns2]\n",
    "\n",
    "X_train, X_test, y_train, y_test = train_test_split(X, y, test_size = 0.2, random_state = 42)"
   ]
  },
  {
   "cell_type": "code",
   "execution_count": 110,
   "metadata": {},
   "outputs": [],
   "source": [
    "elasticregr = ElasticNet(alpha=10**-5)\n",
    "elasticregr.fit(X_train, y_train)\n",
    "\n",
    "y_preds_train = elasticregr.predict(X_train)\n",
    "y_preds_test = elasticregr.predict(X_test)"
   ]
  },
  {
   "cell_type": "code",
   "execution_count": 111,
   "metadata": {},
   "outputs": [
    {
     "name": "stdout",
     "output_type": "stream",
     "text": [
      "R-squared of the model in training set is: 0.8178397931990447\n",
      "-----Test set statistics-----\n",
      "R-squared of the model in test set is: 0.7954357799196524\n",
      "Mean absolute error of the prediction is: 21318.3826323529\n",
      "Mean squared error of the prediction is: 875351982.9923981\n",
      "Root mean squared error of the prediction is: 29586.347915760034\n",
      "Mean absolute percentage error of the prediction is: 13.263713445026445\n"
     ]
    }
   ],
   "source": [
    "print(\"R-squared of the model in training set is: {}\".format(elasticregr.score(X_train, y_train)))\n",
    "print(\"-----Test set statistics-----\")\n",
    "print(\"R-squared of the model in test set is: {}\".format(elasticregr.score(X_test, y_test)))\n",
    "print(\"Mean absolute error of the prediction is: {}\".format(mean_absolute_error(y_test, y_preds_test)))\n",
    "print(\"Mean squared error of the prediction is: {}\".format(mse(y_test, y_preds_test)))\n",
    "print(\"Root mean squared error of the prediction is: {}\".format(rmse(y_test, y_preds_test)))\n",
    "print(\"Mean absolute percentage error of the prediction is: {}\".format(np.mean(np.abs((y_test - y_preds_test) / y_test)) * 100))"
   ]
  },
  {
   "cell_type": "markdown",
   "metadata": {},
   "source": [
    "**Comment:** ElasticNet catches the same R-squared value for alpha equals 10^-5.  "
   ]
  }
 ],
 "metadata": {
  "kernelspec": {
   "display_name": "Python 3",
   "language": "python",
   "name": "python3"
  },
  "language_info": {
   "codemirror_mode": {
    "name": "ipython",
    "version": 3
   },
   "file_extension": ".py",
   "mimetype": "text/x-python",
   "name": "python",
   "nbconvert_exporter": "python",
   "pygments_lexer": "ipython3",
   "version": "3.8.2"
  },
  "latex_envs": {
   "LaTeX_envs_menu_present": true,
   "autoclose": false,
   "autocomplete": true,
   "bibliofile": "biblio.bib",
   "cite_by": "apalike",
   "current_citInitial": 1,
   "eqLabelWithNumbers": true,
   "eqNumInitial": 1,
   "hotkeys": {
    "equation": "Ctrl-E",
    "itemize": "Ctrl-I"
   },
   "labels_anchors": false,
   "latex_user_defs": false,
   "report_style_numbering": false,
   "user_envs_cfg": false
  },
  "varInspector": {
   "cols": {
    "lenName": 16,
    "lenType": 16,
    "lenVar": 40
   },
   "kernels_config": {
    "python": {
     "delete_cmd_postfix": "",
     "delete_cmd_prefix": "del ",
     "library": "var_list.py",
     "varRefreshCmd": "print(var_dic_list())"
    },
    "r": {
     "delete_cmd_postfix": ") ",
     "delete_cmd_prefix": "rm(",
     "library": "var_list.r",
     "varRefreshCmd": "cat(var_dic_list()) "
    }
   },
   "types_to_exclude": [
    "module",
    "function",
    "builtin_function_or_method",
    "instance",
    "_Feature"
   ],
   "window_display": false
  }
 },
 "nbformat": 4,
 "nbformat_minor": 4
}
